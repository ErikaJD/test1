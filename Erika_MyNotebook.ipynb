{
  "metadata": {
    "kernelspec": {
      "name": "python",
      "display_name": "Pyolite",
      "language": "python"
    },
    "language_info": {
      "codemirror_mode": {
        "name": "python",
        "version": 3
      },
      "file_extension": ".py",
      "mimetype": "text/x-python",
      "name": "python",
      "nbconvert_exporter": "python",
      "pygments_lexer": "ipython3",
      "version": "3.8"
    }
  },
  "nbformat_minor": 4,
  "nbformat": 4,
  "cells": [
    {
      "cell_type": "markdown",
      "source": "<center>\n    <img src=\"https://cf-courses-data.s3.us.cloud-object-storage.appdomain.cloud/IBMDeveloperSkillsNetwork-DS0105EN-SkillsNetwork/labs/Module2/images/SN_web_lightmode.png\" width=\"300\" alt=\"cognitiveclass.ai logo\">\n</center>\n",
      "metadata": {}
    },
    {
      "cell_type": "markdown",
      "source": "#### Add your code below following the instructions given in the course\n",
      "metadata": {}
    },
    {
      "cell_type": "markdown",
      "source": "one = 1\ntwo = 2\nprint(one + two)",
      "metadata": {
        "tags": []
      }
    },
    {
      "cell_type": "markdown",
      "source": "thirty = 30\nsixty = 60\nprint(sixty + thirty)",
      "metadata": {}
    },
    {
      "cell_type": "markdown",
      "source": "five = 5\nseven = 7\nprint(seven - five)",
      "metadata": {
        "tags": []
      }
    },
    {
      "cell_type": "markdown",
      "source": "## My Title",
      "metadata": {
        "tags": []
      }
    },
    {
      "cell_type": "markdown",
      "source": "<a href=\"https://dataplatform.cloud.ibm.com/gallery\">IBM Cloud Gallery</a>",
      "metadata": {}
    },
    {
      "cell_type": "markdown",
      "source": "# Header 1",
      "metadata": {}
    },
    {
      "cell_type": "markdown",
      "source": "|header|header|\n|------|------|\n|cell|cell|",
      "metadata": {}
    },
    {
      "cell_type": "markdown",
      "source": "|column 1|column 2|column 3|\n|----|---|----|\n|row 1|row 1|row 1|\n|row 2|row 2|row 2|\n|row 3|row 3|row 3|\n|row 4|row 4|row 4|",
      "metadata": {}
    }
  ]
}